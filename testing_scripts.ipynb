{
 "cells": [
  {
   "cell_type": "markdown",
   "metadata": {
    "id": "_upkW4iQ-3JI"
   },
   "source": [
    "### Call individual functions for the component they are testing (currently does not need to do anything else)"
   ]
  },
  {
   "cell_type": "code",
   "execution_count": 1,
   "metadata": {
    "id": "LYmptBQY-9b1"
   },
   "outputs": [],
   "source": [
    "# Should read in files that would be used for testing (should represent idealized output that the function would receive)\n",
    "# Results should be saved in a variable so they can be evaluated\n"
   ]
  },
  {
   "cell_type": "markdown",
   "metadata": {
    "id": "R5ucCuE0nJdD"
   },
   "source": [
    "### Testing Functions"
   ]
  },
  {
   "cell_type": "code",
   "execution_count": 16,
   "metadata": {
    "colab": {
     "base_uri": "https://localhost:8080/"
    },
    "executionInfo": {
     "elapsed": 18981,
     "status": "ok",
     "timestamp": 1699071465285,
     "user": {
      "displayName": "SHARON TAM",
      "userId": "04253875606491539255"
     },
     "user_tz": 420
    },
    "id": "h3XkfMykOUiD",
    "outputId": "054fb0b3-1bbd-4329-d479-0e10a244d3bc"
   },
   "outputs": [
    {
     "name": "stdout",
     "output_type": "stream",
     "text": [
      "Requirement already satisfied: mne in ./.venv/lib/python3.11/site-packages (1.5.1)\n",
      "Requirement already satisfied: numpy>=1.15.4 in ./.venv/lib/python3.11/site-packages (from mne) (1.26.2)\n",
      "Requirement already satisfied: scipy>=1.6.3 in ./.venv/lib/python3.11/site-packages (from mne) (1.11.3)\n",
      "Requirement already satisfied: matplotlib>=3.4.0 in ./.venv/lib/python3.11/site-packages (from mne) (3.8.2)\n",
      "Requirement already satisfied: tqdm in ./.venv/lib/python3.11/site-packages (from mne) (4.66.1)\n",
      "Requirement already satisfied: pooch>=1.5 in ./.venv/lib/python3.11/site-packages (from mne) (1.8.0)\n",
      "Requirement already satisfied: decorator in ./.venv/lib/python3.11/site-packages (from mne) (5.1.1)\n",
      "Requirement already satisfied: packaging in ./.venv/lib/python3.11/site-packages (from mne) (23.2)\n",
      "Requirement already satisfied: jinja2 in ./.venv/lib/python3.11/site-packages (from mne) (3.1.2)\n",
      "Requirement already satisfied: contourpy>=1.0.1 in ./.venv/lib/python3.11/site-packages (from matplotlib>=3.4.0->mne) (1.2.0)\n",
      "Requirement already satisfied: cycler>=0.10 in ./.venv/lib/python3.11/site-packages (from matplotlib>=3.4.0->mne) (0.12.1)\n",
      "Requirement already satisfied: fonttools>=4.22.0 in ./.venv/lib/python3.11/site-packages (from matplotlib>=3.4.0->mne) (4.44.3)\n",
      "Requirement already satisfied: kiwisolver>=1.3.1 in ./.venv/lib/python3.11/site-packages (from matplotlib>=3.4.0->mne) (1.4.5)\n",
      "Requirement already satisfied: pillow>=8 in ./.venv/lib/python3.11/site-packages (from matplotlib>=3.4.0->mne) (10.1.0)\n",
      "Requirement already satisfied: pyparsing>=2.3.1 in ./.venv/lib/python3.11/site-packages (from matplotlib>=3.4.0->mne) (3.1.1)\n",
      "Requirement already satisfied: python-dateutil>=2.7 in ./.venv/lib/python3.11/site-packages (from matplotlib>=3.4.0->mne) (2.8.2)\n",
      "Requirement already satisfied: platformdirs>=2.5.0 in ./.venv/lib/python3.11/site-packages (from pooch>=1.5->mne) (4.0.0)\n",
      "Requirement already satisfied: requests>=2.19.0 in ./.venv/lib/python3.11/site-packages (from pooch>=1.5->mne) (2.31.0)\n",
      "Requirement already satisfied: MarkupSafe>=2.0 in ./.venv/lib/python3.11/site-packages (from jinja2->mne) (2.1.3)\n",
      "Requirement already satisfied: six>=1.5 in ./.venv/lib/python3.11/site-packages (from python-dateutil>=2.7->matplotlib>=3.4.0->mne) (1.16.0)\n",
      "Requirement already satisfied: charset-normalizer<4,>=2 in ./.venv/lib/python3.11/site-packages (from requests>=2.19.0->pooch>=1.5->mne) (3.3.2)\n",
      "Requirement already satisfied: idna<4,>=2.5 in ./.venv/lib/python3.11/site-packages (from requests>=2.19.0->pooch>=1.5->mne) (3.4)\n",
      "Requirement already satisfied: urllib3<3,>=1.21.1 in ./.venv/lib/python3.11/site-packages (from requests>=2.19.0->pooch>=1.5->mne) (2.1.0)\n",
      "Requirement already satisfied: certifi>=2017.4.17 in ./.venv/lib/python3.11/site-packages (from requests>=2.19.0->pooch>=1.5->mne) (2023.7.22)\n",
      "Requirement already satisfied: umap-learn in ./.venv/lib/python3.11/site-packages (0.5.4)\n",
      "Requirement already satisfied: numpy>=1.17 in ./.venv/lib/python3.11/site-packages (from umap-learn) (1.26.2)\n",
      "Requirement already satisfied: scipy>=1.3.1 in ./.venv/lib/python3.11/site-packages (from umap-learn) (1.11.3)\n",
      "Requirement already satisfied: scikit-learn>=0.22 in ./.venv/lib/python3.11/site-packages (from umap-learn) (1.3.2)\n",
      "Requirement already satisfied: numba>=0.51.2 in ./.venv/lib/python3.11/site-packages (from umap-learn) (0.58.1)\n",
      "Requirement already satisfied: pynndescent>=0.5 in ./.venv/lib/python3.11/site-packages (from umap-learn) (0.5.10)\n",
      "Requirement already satisfied: tqdm in ./.venv/lib/python3.11/site-packages (from umap-learn) (4.66.1)\n",
      "Requirement already satisfied: llvmlite<0.42,>=0.41.0dev0 in ./.venv/lib/python3.11/site-packages (from numba>=0.51.2->umap-learn) (0.41.1)\n",
      "Requirement already satisfied: joblib>=0.11 in ./.venv/lib/python3.11/site-packages (from pynndescent>=0.5->umap-learn) (1.3.2)\n",
      "Requirement already satisfied: threadpoolctl>=2.0.0 in ./.venv/lib/python3.11/site-packages (from scikit-learn>=0.22->umap-learn) (3.2.0)\n",
      "Requirement already satisfied: pyedflib in ./.venv/lib/python3.11/site-packages (0.1.36)\n",
      "Requirement already satisfied: numpy>=1.9.1 in ./.venv/lib/python3.11/site-packages (from pyedflib) (1.26.2)\n",
      "Requirement already satisfied: xgboost in ./.venv/lib/python3.11/site-packages (2.0.2)\n",
      "Requirement already satisfied: numpy in ./.venv/lib/python3.11/site-packages (from xgboost) (1.26.2)\n",
      "Requirement already satisfied: scipy in ./.venv/lib/python3.11/site-packages (from xgboost) (1.11.3)\n",
      "Requirement already satisfied: PyWavelets in ./.venv/lib/python3.11/site-packages (1.5.0)\n",
      "Requirement already satisfied: numpy<2.0,>=1.22.4 in ./.venv/lib/python3.11/site-packages (from PyWavelets) (1.26.2)\n",
      "Requirement already satisfied: neurokit2 in ./.venv/lib/python3.11/site-packages (0.2.7)\n",
      "Requirement already satisfied: numpy in ./.venv/lib/python3.11/site-packages (from neurokit2) (1.26.2)\n",
      "Requirement already satisfied: pandas in ./.venv/lib/python3.11/site-packages (from neurokit2) (2.1.3)\n",
      "Requirement already satisfied: scipy in ./.venv/lib/python3.11/site-packages (from neurokit2) (1.11.3)\n",
      "Requirement already satisfied: scikit-learn>=1.0.0 in ./.venv/lib/python3.11/site-packages (from neurokit2) (1.3.2)\n",
      "Requirement already satisfied: matplotlib in ./.venv/lib/python3.11/site-packages (from neurokit2) (3.8.2)\n",
      "Requirement already satisfied: joblib>=1.1.1 in ./.venv/lib/python3.11/site-packages (from scikit-learn>=1.0.0->neurokit2) (1.3.2)\n",
      "Requirement already satisfied: threadpoolctl>=2.0.0 in ./.venv/lib/python3.11/site-packages (from scikit-learn>=1.0.0->neurokit2) (3.2.0)\n",
      "Requirement already satisfied: contourpy>=1.0.1 in ./.venv/lib/python3.11/site-packages (from matplotlib->neurokit2) (1.2.0)\n",
      "Requirement already satisfied: cycler>=0.10 in ./.venv/lib/python3.11/site-packages (from matplotlib->neurokit2) (0.12.1)\n",
      "Requirement already satisfied: fonttools>=4.22.0 in ./.venv/lib/python3.11/site-packages (from matplotlib->neurokit2) (4.44.3)\n",
      "Requirement already satisfied: kiwisolver>=1.3.1 in ./.venv/lib/python3.11/site-packages (from matplotlib->neurokit2) (1.4.5)\n",
      "Requirement already satisfied: packaging>=20.0 in ./.venv/lib/python3.11/site-packages (from matplotlib->neurokit2) (23.2)\n",
      "Requirement already satisfied: pillow>=8 in ./.venv/lib/python3.11/site-packages (from matplotlib->neurokit2) (10.1.0)\n",
      "Requirement already satisfied: pyparsing>=2.3.1 in ./.venv/lib/python3.11/site-packages (from matplotlib->neurokit2) (3.1.1)\n",
      "Requirement already satisfied: python-dateutil>=2.7 in ./.venv/lib/python3.11/site-packages (from matplotlib->neurokit2) (2.8.2)\n",
      "Requirement already satisfied: pytz>=2020.1 in ./.venv/lib/python3.11/site-packages (from pandas->neurokit2) (2023.3.post1)\n",
      "Requirement already satisfied: tzdata>=2022.1 in ./.venv/lib/python3.11/site-packages (from pandas->neurokit2) (2023.3)\n",
      "Requirement already satisfied: six>=1.5 in ./.venv/lib/python3.11/site-packages (from python-dateutil>=2.7->matplotlib->neurokit2) (1.16.0)\n",
      "Collecting torch\n",
      "  Downloading torch-2.1.1-cp311-none-macosx_11_0_arm64.whl.metadata (25 kB)\n",
      "Collecting filelock (from torch)\n",
      "  Downloading filelock-3.13.1-py3-none-any.whl.metadata (2.8 kB)\n",
      "Collecting typing-extensions (from torch)\n",
      "  Downloading typing_extensions-4.8.0-py3-none-any.whl.metadata (3.0 kB)\n",
      "Collecting sympy (from torch)\n",
      "  Downloading sympy-1.12-py3-none-any.whl (5.7 MB)\n",
      "\u001b[2K     \u001b[90m━━━━━━━━━━━━━━━━━━━━━━━━━━━━━━━━━━━━━━━━\u001b[0m \u001b[32m5.7/5.7 MB\u001b[0m \u001b[31m10.9 MB/s\u001b[0m eta \u001b[36m0:00:00\u001b[0ma \u001b[36m0:00:01\u001b[0m\n",
      "\u001b[?25hCollecting networkx (from torch)\n",
      "  Downloading networkx-3.2.1-py3-none-any.whl.metadata (5.2 kB)\n",
      "Requirement already satisfied: jinja2 in ./.venv/lib/python3.11/site-packages (from torch) (3.1.2)\n",
      "Collecting fsspec (from torch)\n",
      "  Downloading fsspec-2023.10.0-py3-none-any.whl.metadata (6.8 kB)\n",
      "Requirement already satisfied: MarkupSafe>=2.0 in ./.venv/lib/python3.11/site-packages (from jinja2->torch) (2.1.3)\n",
      "Collecting mpmath>=0.19 (from sympy->torch)\n",
      "  Downloading mpmath-1.3.0-py3-none-any.whl (536 kB)\n",
      "\u001b[2K     \u001b[90m━━━━━━━━━━━━━━━━━━━━━━━━━━━━━━━━━━━━━━━\u001b[0m \u001b[32m536.2/536.2 kB\u001b[0m \u001b[31m6.3 MB/s\u001b[0m eta \u001b[36m0:00:00\u001b[0ma \u001b[36m0:00:01\u001b[0m\n",
      "\u001b[?25hDownloading torch-2.1.1-cp311-none-macosx_11_0_arm64.whl (59.6 MB)\n",
      "\u001b[2K   \u001b[90m━━━━━━━━━━━━━━━━━━━━━━━━━━━━━━━━━━━━━━━━\u001b[0m \u001b[32m59.6/59.6 MB\u001b[0m \u001b[31m35.4 MB/s\u001b[0m eta \u001b[36m0:00:00\u001b[0m00:01\u001b[0m00:01\u001b[0m\n",
      "\u001b[?25hDownloading filelock-3.13.1-py3-none-any.whl (11 kB)\n",
      "Downloading fsspec-2023.10.0-py3-none-any.whl (166 kB)\n",
      "\u001b[2K   \u001b[90m━━━━━━━━━━━━━━━━━━━━━━━━━━━━━━━━━━━━━━━━\u001b[0m \u001b[32m166.4/166.4 kB\u001b[0m \u001b[31m14.1 MB/s\u001b[0m eta \u001b[36m0:00:00\u001b[0m\n",
      "\u001b[?25hDownloading networkx-3.2.1-py3-none-any.whl (1.6 MB)\n",
      "\u001b[2K   \u001b[90m━━━━━━━━━━━━━━━━━━━━━━━━━━━━━━━━━━━━━━━━\u001b[0m \u001b[32m1.6/1.6 MB\u001b[0m \u001b[31m36.3 MB/s\u001b[0m eta \u001b[36m0:00:00\u001b[0ma \u001b[36m0:00:01\u001b[0m\n",
      "\u001b[?25hDownloading typing_extensions-4.8.0-py3-none-any.whl (31 kB)\n",
      "Installing collected packages: mpmath, typing-extensions, sympy, networkx, fsspec, filelock, torch\n",
      "Successfully installed filelock-3.13.1 fsspec-2023.10.0 mpmath-1.3.0 networkx-3.2.1 sympy-1.12 torch-2.1.1 typing-extensions-4.8.0\n"
     ]
    }
   ],
   "source": [
    "!pip install mne\n",
    "!pip install umap-learn\n",
    "!pip install pyedflib\n",
    "!pip install xgboost\n",
    "!pip install PyWavelets\n",
    "!pip install neurokit2\n",
    "!pip install torch"
   ]
  },
  {
   "cell_type": "code",
   "execution_count": 17,
   "metadata": {
    "id": "2KgUpTm5OU8p"
   },
   "outputs": [],
   "source": [
    "import mne\n",
    "import pandas as pd\n",
    "import numpy as np\n",
    "import scipy as sp\n",
    "import scipy.io as sio\n",
    "from scipy.signal import periodogram\n",
    "import pywt\n",
    "from collections import Counter\n",
    "from tqdm.notebook import tqdm\n",
    "import scipy.stats as stats\n",
    "from sklearn.model_selection import train_test_split\n",
    "from sklearn.preprocessing import StandardScaler\n",
    "from sklearn.pipeline import make_pipeline\n",
    "from sklearn.model_selection import GridSearchCV, GroupKFold\n",
    "from sklearn.svm import SVC\n",
    "from sklearn.ensemble import RandomForestClassifier\n",
    "from sklearn.cluster import KMeans\n",
    "from xgboost import XGBClassifier\n",
    "from sklearn.datasets import make_classification\n",
    "import umap.umap_ as umap\n",
    "\n",
    "from sklearn.metrics import accuracy_score\n",
    "from glob import glob\n",
    "import os\n",
    "import matplotlib.pyplot as plt\n",
    "import warnings\n",
    "warnings.filterwarnings(\"ignore\")\n",
    "\n",
    "import shutil\n",
    "from scipy.signal import welch\n",
    "#from utils import *\n",
    "import logging\n",
    "import zipfile\n",
    "import pyedflib\n",
    "from pyedflib import highlevel\n",
    "import io\n",
    "import tempfile"
   ]
  },
  {
   "cell_type": "code",
   "execution_count": null,
   "metadata": {},
   "outputs": [],
   "source": [
    "# Import processing functions\n",
    "\n",
    "# [UPDATE PATH]\n",
    "# %cd /content/gdrive/Shareddrives/BE_223A_Seizure_Project/Code/seizureai-main/\n",
    "\n",
    "# Now, you can import your module\n",
    "from dataset import *"
   ]
  },
  {
   "cell_type": "code",
   "execution_count": 21,
   "metadata": {
    "colab": {
     "base_uri": "https://localhost:8080/"
    },
    "executionInfo": {
     "elapsed": 1706,
     "status": "ok",
     "timestamp": 1699071486728,
     "user": {
      "displayName": "SHARON TAM",
      "userId": "04253875606491539255"
     },
     "user_tz": 420
    },
    "id": "pX9BLFNAvjcv",
    "outputId": "922cbdd6-60d9-4d07-a445-e75ac9750eb0"
   },
   "outputs": [],
   "source": [
    "from classical_ml_models import *\n",
    "from get_features import *\n",
    "from train_test_tune import *\n",
    "from cnn import *\n",
    "from rnn import *\n",
    "from validate import *"
   ]
  },
  {
   "cell_type": "code",
   "execution_count": null,
   "metadata": {
    "id": "HCkZn9v6vlpl"
   },
   "outputs": [],
   "source": [
    "# In the future this will be a full folder, but for now it will be one edf file\n",
    "\n",
    "# [UPDATE PATH]\n",
    "data_file_path  = '/content/gdrive/Shareddrives/BE_223A_Seizure_Project/Code/aaaaaajy_s001_t000.edf'\n",
    "labels = [0]"
   ]
  },
  {
   "cell_type": "code",
   "execution_count": null,
   "metadata": {
    "colab": {
     "base_uri": "https://localhost:8080/"
    },
    "executionInfo": {
     "elapsed": 24,
     "status": "ok",
     "timestamp": 1699071501028,
     "user": {
      "displayName": "SHARON TAM",
      "userId": "04253875606491539255"
     },
     "user_tz": 420
    },
    "id": "mffJpaBGtUMD",
    "outputId": "f0f71588-40b4-4856-c449-73476189a6ac"
   },
   "outputs": [],
   "source": [
    "# # Import processing functions\n",
    "\n",
    "# # [UPDATE PATH]\n",
    "# %cd /content/gdrive/Shareddrives/BE_223A_Seizure_Project/Code/seizureai-main/\n",
    "\n",
    "# # Now, you can import your module\n",
    "# from dataset import *"
   ]
  },
  {
   "cell_type": "markdown",
   "metadata": {
    "id": "HJK_topEM9-m"
   },
   "source": [
    "### Pre-Processing"
   ]
  },
  {
   "cell_type": "code",
   "execution_count": 22,
   "metadata": {
    "id": "_6h3mqM0nSLv"
   },
   "outputs": [],
   "source": [
    "def eval_pre_processing(edf_path):\n",
    "\n",
    "  eeg_data_pair = EEGDataPair(data_file_path)\n",
    "\n",
    "  # Run the preprocessing pipeline\n",
    "  edf_file = eeg_data_pair.processing_pipeline()\n",
    "\n",
    "  # Store the original raw for visualization\n",
    "  raw_before = eeg_data_pair.raw.copy()\n",
    "\n",
    "  # Channels that are present after preprocessing\n",
    "  common_chs = [ch for ch in raw_before.ch_names if ch in eeg_data_pair.raw.ch_names]\n",
    "\n",
    "  # Same chanels for both plots\n",
    "  raw_before.pick_channels(common_chs)\n",
    "  eeg_data_pair.raw.pick_channels(common_chs)\n",
    "\n",
    "  # Visualize EEG data BEFORE preprocessing\n",
    "  raw_before.plot(title=\"Before Preprocessing\", n_channels=20, scalings=\"auto\", show=True)\n",
    "\n",
    "  # Visualize EEG data AFTER preprocessing\n",
    "  eeg_data_pair.raw.plot(title=\"After Preprocessing\", n_channels=20, scalings=\"auto\", show=True)\n",
    "\n",
    "  print(edf_file.shape)\n",
    "\n",
    "  print(edf_file.size)\n",
    "\n",
    "  return edf_file"
   ]
  },
  {
   "cell_type": "markdown",
   "metadata": {
    "id": "Vr91Q3YoNCsz"
   },
   "source": [
    "### Feature Extraction"
   ]
  },
  {
   "cell_type": "code",
   "execution_count": 1,
   "metadata": {
    "executionInfo": {
     "elapsed": 5,
     "status": "ok",
     "timestamp": 1699075994203,
     "user": {
      "displayName": "SOULAIMANE BENTALEB",
      "userId": "17889313387321949207"
     },
     "user_tz": 420
    },
    "id": "p63oeqVOiAIy"
   },
   "outputs": [],
   "source": [
    "# Test the get_features function by asserting it outputs a matrix with the right dimensions\n",
    "def eval_get_features(list_signals, wavelet_name):\n",
    "  features = get_features(list_signals, wavelet_name)\n",
    "  print('The features matrix has dimensions ' + str(features.shape))\n",
    "  if features.shape == (32, 177):\n",
    "    print('Those are the correct dimensions!')\n",
    "  if features.shape != (32, 177):\n",
    "    print('Those are the wrong dimensions! The correct dimensions are (32, 177)')\n",
    "  return features"
   ]
  },
  {
   "cell_type": "markdown",
   "metadata": {
    "id": "KGA-0hVlNE4b"
   },
   "source": [
    "### Classical ML Parameter Tuning"
   ]
  },
  {
   "cell_type": "code",
   "execution_count": 33,
   "metadata": {
    "id": "MQOvcn3WNzeG"
   },
   "outputs": [],
   "source": [
    "def eval_tuning(data, labels, groups):\n",
    "  [params, best_params] = train_test_tune(data, labels, groups)\n",
    "\n",
    "  # Check the evaluation scores of each test parameter combination\n",
    "  svc_params = params[0].sort_values(by=['mean_test_score'], ascending=False)\n",
    "  rf_params = params[1].sort_values(by=['mean_test_score'], ascending=False)\n",
    "  kmeans_params = params[2].sort_values(by=['mean_test_score'], ascending=False)\n",
    "  xg_params = params[3].sort_values(by=['mean_test_score'], ascending=False)\n",
    "\n",
    "  svc_tune_scores = svc_params.mean_test_score\n",
    "  rf_tune_scores = rf_params.mean_test_score\n",
    "  kmeans_tune_scores = kmeans_params.mean_test_score\n",
    "  xg_tune_scores = xg_params.mean_test_score\n",
    "\n",
    "  best_svc_score = max(svc_tune_scores)\n",
    "  avg_svc_score = np.mean(svc_tune_scores)\n",
    "\n",
    "  best_rf_score = max(rf_tune_scores)\n",
    "  avg_rf_score = np.mean(rf_tune_scores)\n",
    "\n",
    "  best_kmeans_score = max(kmeans_tune_scores)\n",
    "  avg_kmeans_score = np.mean(kmeans_tune_scores)\n",
    "\n",
    "  best_xg_score = max(xg_tune_scores)\n",
    "  avg_xg_score = np.mean(xg_tune_scores)\n",
    "\n",
    "  print('SVC Results')\n",
    "  print('Best score: ', best_svc_score)\n",
    "  print('Average score: ', avg_svc_score)\n",
    "  print('Best parameters: ', svc_params.iloc[:3], '\\n')\n",
    "\n",
    "  print('Random Forest Results')\n",
    "  print('Best score: ', best_rf_score)\n",
    "  print('Average score: ', avg_rf_score)\n",
    "  print('Best parameters: ', rf_params.iloc[:3], '\\n')\n",
    "    \n",
    "  print('K Means Results')\n",
    "  print('Best score: ', best_kmeans_score)\n",
    "  print('Average score: ', avg_kmeans_score)\n",
    "  print('Best parameters: ', kmeans_params.iloc[:3], '\\n')\n",
    "    \n",
    "  print('XG Boost Results')\n",
    "  print('Best score: ', best_xg_score)\n",
    "  print('Average score: ', avg_xg_score)\n",
    "  print('Best parameters: ', xg_params.iloc[:3], '\\n')\n",
    "  \n",
    "  return"
   ]
  },
  {
   "cell_type": "code",
   "execution_count": 34,
   "metadata": {},
   "outputs": [
    {
     "name": "stdout",
     "output_type": "stream",
     "text": [
      "Fitting 5 folds for each of 4 candidates, totalling 20 fits\n",
      "[CV] END .....................svc__C=1, umap__n_components=5; total time=   1.4s\n",
      "[CV] END .....................svc__C=1, umap__n_components=5; total time=   1.4s\n",
      "[CV] END .....................svc__C=1, umap__n_components=5; total time=   1.9s\n",
      "[CV] END .....................svc__C=1, umap__n_components=5; total time=   1.4s\n",
      "[CV] END .....................svc__C=1, umap__n_components=5; total time=   1.4s\n",
      "[CV] END ....................svc__C=1, umap__n_components=10; total time=   1.4s\n",
      "[CV] END ....................svc__C=1, umap__n_components=10; total time=   1.4s\n",
      "[CV] END ....................svc__C=1, umap__n_components=10; total time=   1.8s\n",
      "[CV] END ....................svc__C=1, umap__n_components=10; total time=   1.4s\n",
      "[CV] END ....................svc__C=1, umap__n_components=10; total time=   1.4s\n",
      "[CV] END ....................svc__C=10, umap__n_components=5; total time=   1.4s\n",
      "[CV] END ....................svc__C=10, umap__n_components=5; total time=   1.8s\n",
      "[CV] END ....................svc__C=10, umap__n_components=5; total time=   1.4s\n",
      "[CV] END ....................svc__C=10, umap__n_components=5; total time=   1.4s\n",
      "[CV] END ....................svc__C=10, umap__n_components=5; total time=   1.4s\n",
      "[CV] END ...................svc__C=10, umap__n_components=10; total time=   1.8s\n",
      "[CV] END ...................svc__C=10, umap__n_components=10; total time=   1.4s\n",
      "[CV] END ...................svc__C=10, umap__n_components=10; total time=   1.4s\n",
      "[CV] END ...................svc__C=10, umap__n_components=10; total time=   1.4s\n",
      "[CV] END ...................svc__C=10, umap__n_components=10; total time=   1.4s\n",
      "Fitting 5 folds for each of 4 candidates, totalling 20 fits\n",
      "[CV] END randomforestclassifier__n_estimators=10, umap__n_components=5; total time=   1.4s\n",
      "[CV] END randomforestclassifier__n_estimators=10, umap__n_components=5; total time=   1.4s\n",
      "[CV] END randomforestclassifier__n_estimators=10, umap__n_components=5; total time=   1.4s\n",
      "[CV] END randomforestclassifier__n_estimators=10, umap__n_components=5; total time=   1.9s\n",
      "[CV] END randomforestclassifier__n_estimators=10, umap__n_components=5; total time=   1.4s\n",
      "[CV] END randomforestclassifier__n_estimators=10, umap__n_components=10; total time=   1.4s\n",
      "[CV] END randomforestclassifier__n_estimators=10, umap__n_components=10; total time=   1.4s\n",
      "[CV] END randomforestclassifier__n_estimators=10, umap__n_components=10; total time=   1.4s\n",
      "[CV] END randomforestclassifier__n_estimators=10, umap__n_components=10; total time=   1.9s\n",
      "[CV] END randomforestclassifier__n_estimators=10, umap__n_components=10; total time=   1.4s\n",
      "[CV] END randomforestclassifier__n_estimators=100, umap__n_components=5; total time=   1.4s\n",
      "[CV] END randomforestclassifier__n_estimators=100, umap__n_components=5; total time=   1.4s\n",
      "[CV] END randomforestclassifier__n_estimators=100, umap__n_components=5; total time=   1.9s\n",
      "[CV] END randomforestclassifier__n_estimators=100, umap__n_components=5; total time=   1.4s\n",
      "[CV] END randomforestclassifier__n_estimators=100, umap__n_components=5; total time=   1.5s\n",
      "[CV] END randomforestclassifier__n_estimators=100, umap__n_components=10; total time=   1.4s\n",
      "[CV] END randomforestclassifier__n_estimators=100, umap__n_components=10; total time=   1.9s\n",
      "[CV] END randomforestclassifier__n_estimators=100, umap__n_components=10; total time=   1.5s\n",
      "[CV] END randomforestclassifier__n_estimators=100, umap__n_components=10; total time=   1.5s\n",
      "[CV] END randomforestclassifier__n_estimators=100, umap__n_components=10; total time=   1.4s\n",
      "Fitting 5 folds for each of 4 candidates, totalling 20 fits\n",
      "[CV] END .......kmeans__init=k-means++, umap__n_components=5; total time=   2.0s\n",
      "[CV] END .......kmeans__init=k-means++, umap__n_components=5; total time=   1.4s\n",
      "[CV] END .......kmeans__init=k-means++, umap__n_components=5; total time=   1.4s\n",
      "[CV] END .......kmeans__init=k-means++, umap__n_components=5; total time=   1.4s\n",
      "[CV] END .......kmeans__init=k-means++, umap__n_components=5; total time=   1.4s\n",
      "[CV] END ......kmeans__init=k-means++, umap__n_components=10; total time=   1.9s\n",
      "[CV] END ......kmeans__init=k-means++, umap__n_components=10; total time=   1.4s\n",
      "[CV] END ......kmeans__init=k-means++, umap__n_components=10; total time=   1.4s\n",
      "[CV] END ......kmeans__init=k-means++, umap__n_components=10; total time=   1.4s\n",
      "[CV] END ......kmeans__init=k-means++, umap__n_components=10; total time=   1.4s\n",
      "[CV] END ..........kmeans__init=random, umap__n_components=5; total time=   2.0s\n",
      "[CV] END ..........kmeans__init=random, umap__n_components=5; total time=   1.4s\n",
      "[CV] END ..........kmeans__init=random, umap__n_components=5; total time=   1.4s\n",
      "[CV] END ..........kmeans__init=random, umap__n_components=5; total time=   1.4s\n",
      "[CV] END ..........kmeans__init=random, umap__n_components=5; total time=   1.4s\n",
      "[CV] END .........kmeans__init=random, umap__n_components=10; total time=   2.1s\n",
      "[CV] END .........kmeans__init=random, umap__n_components=10; total time=   1.4s\n",
      "[CV] END .........kmeans__init=random, umap__n_components=10; total time=   1.4s\n",
      "[CV] END .........kmeans__init=random, umap__n_components=10; total time=   1.4s\n",
      "[CV] END .........kmeans__init=random, umap__n_components=10; total time=   2.4s\n",
      "Fitting 5 folds for each of 4 candidates, totalling 20 fits\n",
      "[CV] END ...umap__n_components=5, xgbclassifier__max_depth=2; total time=   1.4s\n",
      "[CV] END ...umap__n_components=5, xgbclassifier__max_depth=2; total time=   1.4s\n",
      "[CV] END ...umap__n_components=5, xgbclassifier__max_depth=2; total time=   1.4s\n",
      "[CV] END ...umap__n_components=5, xgbclassifier__max_depth=2; total time=   2.1s\n",
      "[CV] END ...umap__n_components=5, xgbclassifier__max_depth=2; total time=   1.5s\n",
      "[CV] END ...umap__n_components=5, xgbclassifier__max_depth=5; total time=   1.5s\n",
      "[CV] END ...umap__n_components=5, xgbclassifier__max_depth=5; total time=   1.5s\n",
      "[CV] END ...umap__n_components=5, xgbclassifier__max_depth=5; total time=   1.4s\n",
      "[CV] END ...umap__n_components=5, xgbclassifier__max_depth=5; total time=   2.3s\n",
      "[CV] END ...umap__n_components=5, xgbclassifier__max_depth=5; total time=   1.6s\n",
      "[CV] END ..umap__n_components=10, xgbclassifier__max_depth=2; total time=   1.5s\n",
      "[CV] END ..umap__n_components=10, xgbclassifier__max_depth=2; total time=   1.5s\n",
      "[CV] END ..umap__n_components=10, xgbclassifier__max_depth=2; total time=   1.4s\n",
      "[CV] END ..umap__n_components=10, xgbclassifier__max_depth=2; total time=   2.0s\n",
      "[CV] END ..umap__n_components=10, xgbclassifier__max_depth=2; total time=   1.5s\n",
      "[CV] END ..umap__n_components=10, xgbclassifier__max_depth=5; total time=   1.4s\n",
      "[CV] END ..umap__n_components=10, xgbclassifier__max_depth=5; total time=   1.4s\n",
      "[CV] END ..umap__n_components=10, xgbclassifier__max_depth=5; total time=   1.4s\n",
      "[CV] END ..umap__n_components=10, xgbclassifier__max_depth=5; total time=   2.1s\n",
      "[CV] END ..umap__n_components=10, xgbclassifier__max_depth=5; total time=   1.4s\n",
      "Cross validate to determine optimal feature selection and model hyperparameters\n",
      "SVC Results\n",
      "Best score:  0.08\n",
      "Average score:  0.08\n",
      "Best parameters:    param_umap__n_components param_svc__C  mean_test_score\n",
      "0                        5            1             0.08\n",
      "1                       10            1             0.08\n",
      "2                        5           10             0.08 \n",
      "\n",
      "Random Forest Results\n",
      "Best score:  0.08\n",
      "Average score:  0.08\n",
      "Best parameters:    param_umap__n_components param_randomforestclassifier__n_estimators  \\\n",
      "0                        5                                         10   \n",
      "1                       10                                         10   \n",
      "2                        5                                        100   \n",
      "\n",
      "   mean_test_score  \n",
      "0             0.08  \n",
      "1             0.08  \n",
      "2             0.08   \n",
      "\n",
      "K Means Results\n",
      "Best score:  0.9199999999999999\n",
      "Average score:  0.57\n",
      "Best parameters:    param_umap__n_components param_kmeans__init  mean_test_score\n",
      "1                       10          k-means++             0.92\n",
      "2                        5             random             0.72\n",
      "0                        5          k-means++             0.32 \n",
      "\n",
      "XG Boost Results\n",
      "Best score:  0.76\n",
      "Average score:  0.68\n",
      "Best parameters:    param_umap__n_components param_xgbclassifier__max_depth  mean_test_score\n",
      "2                       10                              2             0.76\n",
      "3                       10                              5             0.72\n",
      "1                        5                              5             0.68 \n",
      "\n"
     ]
    }
   ],
   "source": [
    "# Run with fake test data\n",
    "patients = 5\n",
    "files = 5*patients\n",
    "channels = 2\n",
    "features = 10\n",
    "data = np.random.rand(files, channels, features)\n",
    "labels = np.array([1, 1, 1, 1, 1, 0, 0, 0, 0, 0, 1, 1, 1, 1, 1, 0, 0, 0, 0, 0, 1, 1, 1, 1, 1])\n",
    "groups = np.array([0, 0, 0, 0, 0, 1, 1, 1, 1, 1, 2, 2, 2, 2, 2, 3, 3, 3, 3, 3, 4, 4, 4, 4, 4])\n",
    "\n",
    "# Return list of pd dataframes that contain every combo of parameters + mean_test_score\n",
    "# Return list of dict for each model with the best parameters\n",
    "eval_tuning(data, labels, groups)"
   ]
  },
  {
   "cell_type": "markdown",
   "metadata": {
    "id": "AiV62_vzNIhS"
   },
   "source": [
    "### Deep Learning"
   ]
  },
  {
   "cell_type": "code",
   "execution_count": null,
   "metadata": {
    "id": "an4Mv0vnPXHc"
   },
   "outputs": [],
   "source": [
    "def eval_rnn(data, labels, val_data, parameters):\n",
    "  predictions = rnn_model(data,labels, val_data,parameters)\n",
    "  return predictions\n"
   ]
  },
  {
   "cell_type": "code",
   "execution_count": null,
   "metadata": {
    "id": "ev8BHnpNm6Gz"
   },
   "outputs": [],
   "source": [
    "def eval_cnn(edf_file, labels):\n",
    "  weights = run_cnn(edf_file, labels)\n",
    "  return weights"
   ]
  },
  {
   "cell_type": "markdown",
   "metadata": {
    "id": "dGkuW1CfNOCL"
   },
   "source": [
    "### Validation"
   ]
  },
  {
   "cell_type": "code",
   "execution_count": null,
   "metadata": {
    "id": "dVrYTXK2NQuo"
   },
   "outputs": [],
   "source": [
    "def eval_validation(train_data, train_labels, val_data, val_labels, parameters):\n",
    "\n",
    "  results = validate(train_data, train_labels, val_data, val_labels, parameters)\n",
    "\n",
    "  # Check that validation methods are working and returning results in proper format\n",
    "\n",
    "  return results"
   ]
  }
 ],
 "metadata": {
  "colab": {
   "provenance": []
  },
  "kernelspec": {
   "display_name": "Python 3 (ipykernel)",
   "language": "python",
   "name": "python3"
  },
  "language_info": {
   "codemirror_mode": {
    "name": "ipython",
    "version": 3
   },
   "file_extension": ".py",
   "mimetype": "text/x-python",
   "name": "python",
   "nbconvert_exporter": "python",
   "pygments_lexer": "ipython3",
   "version": "3.11.6"
  }
 },
 "nbformat": 4,
 "nbformat_minor": 1
}
